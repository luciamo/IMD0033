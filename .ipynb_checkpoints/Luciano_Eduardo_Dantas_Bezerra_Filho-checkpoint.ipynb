{
 "cells": [
  {
   "cell_type": "markdown",
   "metadata": {},
   "source": [
    "## Unidade 01 - Avaliação 01\n",
    "\n",
    "- **Aluno**: --preencher o nome completo--\n",
    "- **Matrícula**: --preencer com a matrícula--\n",
    "\n",
    "<br>\n",
    "<div class=\"alert alert-info\">\n",
    "<b>Avisos.</b>\n",
    "</div>\n",
    "\n",
    "\n",
    "1. O notebook deverá ser renomeado para o nome completo do aluno seguindo o formato: Ivanovitch_Medeiros_Dantas_da_Silva.ipynb\n",
    "2. Todas as questões devem ser respondidas através de códigos escritos em linguagem Python, versão 3.X, e no espaço destinado para esse fim. Criem células Markdown para destacar quando inicia e termina as questões. \n",
    "3. O notebook resultante deverá ser enviado através do Sigaa conforme tarefa cadastrada pelo professor. Ressalta-se que após o horário de final da aula, a submissão da tarefa estará fechada no Sigaa. \n",
    "4. O arquivo da base de dados não deve ser alterado.\n",
    "5. Em nenhuma hipótese os alunos devem trocar mensagens entre si. A prova só deve ser compartilhada na Internet após a sua correção. Caso seja identificado tal situação, os envolvidos terão automaticamente nota Zero (0.0) na avaliação.   "
   ]
  },
  {
   "cell_type": "markdown",
   "metadata": {},
   "source": [
    "## Base de dados\n",
    "\n",
    "Nessa avaliação será utilizado a base de dados referente aos concursos da Mega-Sena. \n",
    "\n",
    "A **Mega-Sena** tem sido a maior modalidade lotérica do Brasil, sendo uma entre as dez modalidades atuais das loterias da Caixa (Caixa Econômica Federal), com sorteios ordinários duas vezes por semana, além da Mega-Sena da Virada.\n",
    "\n",
    "Para ganhar o **prêmio máximo da Mega-Sena** — **a sena** — , é necessário acertar a sena, o que significa obter coincidência entre **seis dos números** apostados e os seis números sorteados, de um total de sessenta dezenas (**de 01 a 60**), independentemente da ordem da aposta ou da ordem do sorteio. \n",
    "\n",
    "O concurso prevê também a chance de se ganhar parte do prêmio máximo, pelo acerto da **quina** (apenas cinco dos números sorteados), ou da **quadra** (apenas quatro dos números sorteados), com prêmios significativamente menores que aquele que seria pago na ocorrência do acerto da sena, o da quina maior que o da quadra. \n",
    "\n",
    "A base de dados está em formato de planilha em excel. Para carregar esse arquivo em formato de **dataframe** utilizar o código abaixo: \n",
    "\n",
    ">```python\n",
    "# Importar as bibliotecas necessárias\n",
    "import pandas as pd\n",
    "# Atribuir o nome da planilha para a variável \"arquivo\"\n",
    "arquivo = 'basedados.xlsx'\n",
    "# Carregar a base de dados para um objeto pandas.io.excel.ExcelFile\n",
    "excel = pd.ExcelFile(arquivo)\n",
    "# Imprimir o nome das planilhas\n",
    "print(excel.sheet_names)\n",
    "# Carregar a planilha excel para um objeto dataframe\n",
    "dados = excel.parse(0)\n",
    "# Imprimir as cinco primeiras linhas do dataframe\n",
    "dados.head()\n",
    "```"
   ]
  },
  {
   "cell_type": "code",
   "execution_count": 44,
   "metadata": {},
   "outputs": [
    {
     "name": "stdout",
     "output_type": "stream",
     "text": [
      "[u'MegaSena']\n"
     ]
    },
    {
     "data": {
      "text/html": [
       "<div>\n",
       "<style>\n",
       "    .dataframe thead tr:only-child th {\n",
       "        text-align: right;\n",
       "    }\n",
       "\n",
       "    .dataframe thead th {\n",
       "        text-align: left;\n",
       "    }\n",
       "\n",
       "    .dataframe tbody tr th {\n",
       "        vertical-align: top;\n",
       "    }\n",
       "</style>\n",
       "<table border=\"1\" class=\"dataframe\">\n",
       "  <thead>\n",
       "    <tr style=\"text-align: right;\">\n",
       "      <th></th>\n",
       "      <th>Concurso</th>\n",
       "      <th>Data Sorteio</th>\n",
       "      <th>Dezena1</th>\n",
       "      <th>Dezena2</th>\n",
       "      <th>Dezena3</th>\n",
       "      <th>Dezena4</th>\n",
       "      <th>Dezena5</th>\n",
       "      <th>Dezena6</th>\n",
       "      <th>Arrecadacao_Total</th>\n",
       "      <th>Ganhadores_Sena</th>\n",
       "      <th>Rateio_Sena</th>\n",
       "      <th>Ganhadores_Quina</th>\n",
       "      <th>Rateio_Quina</th>\n",
       "      <th>Ganhadores_Quadra</th>\n",
       "      <th>Rateio_Quadra</th>\n",
       "      <th>Acumulado</th>\n",
       "      <th>Valor_Acumulado</th>\n",
       "      <th>Estimativa_Prêmio</th>\n",
       "    </tr>\n",
       "  </thead>\n",
       "  <tbody>\n",
       "    <tr>\n",
       "      <th>0</th>\n",
       "      <td>1</td>\n",
       "      <td>1996-03-11</td>\n",
       "      <td>41</td>\n",
       "      <td>5</td>\n",
       "      <td>4</td>\n",
       "      <td>52</td>\n",
       "      <td>30</td>\n",
       "      <td>33</td>\n",
       "      <td>0.0</td>\n",
       "      <td>0</td>\n",
       "      <td>0.00</td>\n",
       "      <td>17</td>\n",
       "      <td>39158.92</td>\n",
       "      <td>2016</td>\n",
       "      <td>330.21</td>\n",
       "      <td>SIM</td>\n",
       "      <td>1714650.23</td>\n",
       "      <td>0</td>\n",
       "    </tr>\n",
       "    <tr>\n",
       "      <th>1</th>\n",
       "      <td>2</td>\n",
       "      <td>1996-03-18</td>\n",
       "      <td>9</td>\n",
       "      <td>39</td>\n",
       "      <td>37</td>\n",
       "      <td>49</td>\n",
       "      <td>43</td>\n",
       "      <td>41</td>\n",
       "      <td>0.0</td>\n",
       "      <td>1</td>\n",
       "      <td>2307162.23</td>\n",
       "      <td>65</td>\n",
       "      <td>14424.02</td>\n",
       "      <td>4488</td>\n",
       "      <td>208.91</td>\n",
       "      <td>NÃO</td>\n",
       "      <td>0.00</td>\n",
       "      <td>0</td>\n",
       "    </tr>\n",
       "    <tr>\n",
       "      <th>2</th>\n",
       "      <td>3</td>\n",
       "      <td>1996-03-25</td>\n",
       "      <td>36</td>\n",
       "      <td>30</td>\n",
       "      <td>10</td>\n",
       "      <td>11</td>\n",
       "      <td>29</td>\n",
       "      <td>47</td>\n",
       "      <td>0.0</td>\n",
       "      <td>2</td>\n",
       "      <td>391192.51</td>\n",
       "      <td>62</td>\n",
       "      <td>10515.93</td>\n",
       "      <td>4261</td>\n",
       "      <td>153.01</td>\n",
       "      <td>NÃO</td>\n",
       "      <td>0.00</td>\n",
       "      <td>0</td>\n",
       "    </tr>\n",
       "    <tr>\n",
       "      <th>3</th>\n",
       "      <td>4</td>\n",
       "      <td>1996-04-01</td>\n",
       "      <td>6</td>\n",
       "      <td>59</td>\n",
       "      <td>42</td>\n",
       "      <td>27</td>\n",
       "      <td>1</td>\n",
       "      <td>5</td>\n",
       "      <td>0.0</td>\n",
       "      <td>0</td>\n",
       "      <td>0.00</td>\n",
       "      <td>39</td>\n",
       "      <td>15322.24</td>\n",
       "      <td>3311</td>\n",
       "      <td>180.48</td>\n",
       "      <td>SIM</td>\n",
       "      <td>717080.75</td>\n",
       "      <td>0</td>\n",
       "    </tr>\n",
       "    <tr>\n",
       "      <th>4</th>\n",
       "      <td>5</td>\n",
       "      <td>1996-04-08</td>\n",
       "      <td>1</td>\n",
       "      <td>19</td>\n",
       "      <td>46</td>\n",
       "      <td>6</td>\n",
       "      <td>16</td>\n",
       "      <td>2</td>\n",
       "      <td>0.0</td>\n",
       "      <td>0</td>\n",
       "      <td>0.00</td>\n",
       "      <td>98</td>\n",
       "      <td>5318.10</td>\n",
       "      <td>5399</td>\n",
       "      <td>96.53</td>\n",
       "      <td>SIM</td>\n",
       "      <td>1342488.85</td>\n",
       "      <td>0</td>\n",
       "    </tr>\n",
       "  </tbody>\n",
       "</table>\n",
       "</div>"
      ],
      "text/plain": [
       "   Concurso Data Sorteio  Dezena1  Dezena2  Dezena3  Dezena4  Dezena5  \\\n",
       "0         1   1996-03-11       41        5        4       52       30   \n",
       "1         2   1996-03-18        9       39       37       49       43   \n",
       "2         3   1996-03-25       36       30       10       11       29   \n",
       "3         4   1996-04-01        6       59       42       27        1   \n",
       "4         5   1996-04-08        1       19       46        6       16   \n",
       "\n",
       "   Dezena6  Arrecadacao_Total  Ganhadores_Sena  Rateio_Sena  Ganhadores_Quina  \\\n",
       "0       33                0.0                0         0.00                17   \n",
       "1       41                0.0                1   2307162.23                65   \n",
       "2       47                0.0                2    391192.51                62   \n",
       "3        5                0.0                0         0.00                39   \n",
       "4        2                0.0                0         0.00                98   \n",
       "\n",
       "   Rateio_Quina  Ganhadores_Quadra  Rateio_Quadra Acumulado  Valor_Acumulado  \\\n",
       "0      39158.92               2016         330.21       SIM       1714650.23   \n",
       "1      14424.02               4488         208.91       NÃO             0.00   \n",
       "2      10515.93               4261         153.01       NÃO             0.00   \n",
       "3      15322.24               3311         180.48       SIM        717080.75   \n",
       "4       5318.10               5399          96.53       SIM       1342488.85   \n",
       "\n",
       "   Estimativa_Prêmio  \n",
       "0                  0  \n",
       "1                  0  \n",
       "2                  0  \n",
       "3                  0  \n",
       "4                  0  "
      ]
     },
     "execution_count": 44,
     "metadata": {},
     "output_type": "execute_result"
    }
   ],
   "source": [
    "# Importar as bibliotecas necessárias\n",
    "import pandas as pd\n",
    "# Atribuir o nome da planilha para a variável \"arquivo\"\n",
    "arquivo = 'basedados.xlsx'\n",
    "# Carregar a base de dados para um objeto pandas.io.excel.ExcelFile\n",
    "excel = pd.ExcelFile(arquivo)\n",
    "# Imprimir o nome das planilhas\n",
    "print(excel.sheet_names)\n",
    "# Carregar a planilha excel para um objeto dataframe\n",
    "dados = excel.parse(0)\n",
    "# Imprimir as cinco primeiras linhas do dataframe\n",
    "dados.head()"
   ]
  },
  {
   "cell_type": "markdown",
   "metadata": {},
   "source": [
    "## a) (2.0 pontos) Investigando a base de dados\n",
    "\n",
    "1. (0.2 pontos) Quantos dados faltantes existem em toda a base de dados?\n",
    "2. (0.2 pontos) Quais os tipos das colunas da base de dados?\n",
    "3. (0.2 pontos) Qual o concurso com o maior número de ganhadores na sena?\n",
    "4. (0.4 pontos) Quantos dias se passaram entre os 100 últimos concurso?\n",
    "5. (1.0 ponto)  Qual a porcentagem de concursos não acumulados?"
   ]
  },
  {
   "cell_type": "code",
   "execution_count": 30,
   "metadata": {},
   "outputs": [
    {
     "data": {
      "text/plain": [
       "0"
      ]
     },
     "execution_count": 30,
     "metadata": {},
     "output_type": "execute_result"
    }
   ],
   "source": [
    "#1 (0.2 pontos) Quantos dados faltantes existem em toda a base de dados?\n",
    "dados_faltantes = 0\n",
    "for col in dados.columns:\n",
    "    dados_faltantes+=sum(dados[col].isnull())\n",
    "dados_faltantes"
   ]
  },
  {
   "cell_type": "code",
   "execution_count": 41,
   "metadata": {
    "scrolled": false
   },
   "outputs": [
    {
     "name": "stdout",
     "output_type": "stream",
     "text": [
      "<type 'numpy.int64'>\n",
      "<class 'pandas._libs.tslib.Timestamp'>\n",
      "<type 'numpy.int64'>\n",
      "<type 'numpy.int64'>\n",
      "<type 'numpy.int64'>\n",
      "<type 'numpy.int64'>\n",
      "<type 'numpy.int64'>\n",
      "<type 'numpy.int64'>\n",
      "<type 'numpy.float64'>\n",
      "<type 'numpy.int64'>\n",
      "<type 'numpy.float64'>\n",
      "<type 'numpy.int64'>\n",
      "<type 'numpy.float64'>\n",
      "<type 'numpy.int64'>\n",
      "<type 'numpy.float64'>\n",
      "<type 'unicode'>\n",
      "<type 'numpy.float64'>\n",
      "<type 'numpy.int64'>\n"
     ]
    }
   ],
   "source": [
    "#2 (0.2 pontos) Quais os tipos das colunas da base de dados?\n",
    "for col in dados.columns:\n",
    "    print(type(dados[col][0]))"
   ]
  },
  {
   "cell_type": "code",
   "execution_count": 95,
   "metadata": {},
   "outputs": [
    {
     "name": "stdout",
     "output_type": "stream",
     "text": [
      "1999    2000\n",
      "Name: Concurso, dtype: int64\n"
     ]
    }
   ],
   "source": [
    "#3 (0.2 pontos) Qual o concurso com o maior número de ganhadores na sena? Concurso 2000\n",
    "print(dados[\"Concurso\"].loc[(dados[\"Ganhadores_Sena\"]==dados[\"Ganhadores_Sena\"].max())])"
   ]
  },
  {
   "cell_type": "markdown",
   "metadata": {},
   "source": [
    "## b) (3.0 pontos) Tentativa de encontrar uma aposta perfeita\n",
    "\n",
    "\n",
    "1. (3.0 pontos) Pythonildo teve uma ideia brilhante para **ganhar na Mega-Sena**. Sendo ele uma pessoa muito exotérica, acredita que o dia \"2010-01-01\" tem uma influência grande nos resultados. Assim, a estratégia de Pythonildo é fazer uma aposta de 6 números contendo os 6 números que mais apareceram em todos os concursos da MegaSena a partir do dia \"2010-01-01\". Encontre a aposta perfeita segundo Pythonildo.\n",
    "\n",
    "*sugestão - consultar a função pandas.DataFrame.unstack*"
   ]
  },
  {
   "cell_type": "code",
   "execution_count": 16,
   "metadata": {},
   "outputs": [
    {
     "data": {
      "text/plain": [
       "10    113\n",
       "2     108\n",
       "53    106\n",
       "30    103\n",
       "52    103\n",
       "5     100\n",
       "dtype: int64"
      ]
     },
     "execution_count": 16,
     "metadata": {},
     "output_type": "execute_result"
    }
   ],
   "source": [
    "colunas = [\"Dezena1\", \"Dezena2\", \"Dezena3\", \"Dezena4\", \"Dezena5\", \"Dezena6\"]\n",
    "\n",
    "dados[dados[\"Data Sorteio\"] > \"2010-01-01\"][colunas].unstack().value_counts()[0:6]"
   ]
  },
  {
   "cell_type": "markdown",
   "metadata": {},
   "source": [
    "## c) (5.0 pontos) Investigando a premiação\n",
    "\n",
    "Para cada concurso da Mega-Sena, a maior premiação está relacionada com o acerto das 6 dezenas, e o seu valor é dada pela seguinte relação:\n",
    "\n",
    "$$Prêmio = Ganhadores\\_Sena\t\\times Rateio\\_Sena$$\n",
    "\n",
    "1) (1.0 ponto) Crie uma nova coluna na base de dados para o prêmio máximo de cada concurso. A coluna deve ser chamada de \"prêmio_máximo\"\n",
    "\n",
    "2) (1.0 ponto) Qual concurso ocorreu o maior prêmio da Mega-Sena?\n",
    "\n",
    "3) (1.5 pontos) Crie uma nova coluna chamada \"Rótulo\" baseada na faixa de valores da coluna \"prêmio_máximo\"\n",
    "\n",
    "| Intervalo [Milhões de Reais] | Rótulo |\n",
    "|------------------------------|--------|\n",
    "| 0 - 1                        | I      |\n",
    "| 1 - 5                        | II     |\n",
    "| 5 - 10                       | III    |\n",
    "| 10 - 20                      | IV     |\n",
    "| 20 - 40                      | V      |\n",
    "| 40 - 80                      | VI     |\n",
    "| 80 - 100                     | VII    |\n",
    "| 100 - 200                    | VIII   |\n",
    "| 200 - 300                    | IX     |\n",
    "| 300 -                        | X      |\n",
    "4) (1.5 pontos) Calcule a porcentagem de ocorrência para cada rótulo assumindo o número total de concursos realizados. "
   ]
  },
  {
   "cell_type": "code",
   "execution_count": 62,
   "metadata": {
    "scrolled": true
   },
   "outputs": [],
   "source": [
    "#1 (1.0 ponto) Crie uma nova coluna na base de dados para o prêmio máximo de cada concurso. A coluna deve ser chamada de \"prêmio_máximo\"]\n",
    "dados[\"Premio_Maximo\"] = (dados[\"Ganhadores_Sena\"]*dados[\"Rateio_Sena\"])"
   ]
  },
  {
   "cell_type": "code",
   "execution_count": 63,
   "metadata": {},
   "outputs": [
    {
     "data": {
      "text/plain": [
       "306718743.68000001"
      ]
     },
     "execution_count": 63,
     "metadata": {},
     "output_type": "execute_result"
    }
   ],
   "source": [
    "#2 Qual concurso ocorreu o maior prêmio da Mega-Sena?\n",
    "dados[\"Premio_Maximo\"].max()"
   ]
  },
  {
   "cell_type": "code",
   "execution_count": 85,
   "metadata": {
    "scrolled": true
   },
   "outputs": [
    {
     "data": {
      "text/plain": [
       "0          I\n",
       "1         II\n",
       "2          I\n",
       "3          I\n",
       "4          I\n",
       "5          I\n",
       "6          I\n",
       "7          I\n",
       "8          I\n",
       "9          I\n",
       "10        IV\n",
       "11         I\n",
       "12         I\n",
       "13         I\n",
       "14         I\n",
       "15         I\n",
       "16       III\n",
       "17         I\n",
       "18         I\n",
       "19         I\n",
       "20         I\n",
       "21         I\n",
       "22         I\n",
       "23        IV\n",
       "24         I\n",
       "25         I\n",
       "26         I\n",
       "27         I\n",
       "28       III\n",
       "29         I\n",
       "        ... \n",
       "1995       I\n",
       "1996       I\n",
       "1997       I\n",
       "1998       I\n",
       "1999       X\n",
       "2000       I\n",
       "2001       I\n",
       "2002       I\n",
       "2003      IV\n",
       "2004       I\n",
       "2005       I\n",
       "2006       I\n",
       "2007       I\n",
       "2008       I\n",
       "2009       I\n",
       "2010       I\n",
       "2011       I\n",
       "2012       I\n",
       "2013       I\n",
       "2014    VIII\n",
       "2015       I\n",
       "2016       I\n",
       "2017       I\n",
       "2018       I\n",
       "2019       I\n",
       "2020       I\n",
       "2021       I\n",
       "2022      VI\n",
       "2023       I\n",
       "2024       I\n",
       "Name: Rotulo, Length: 2025, dtype: object"
      ]
     },
     "execution_count": 85,
     "metadata": {},
     "output_type": "execute_result"
    }
   ],
   "source": [
    "#3 (1.5 pontos) Crie uma nova coluna chamada \"Rótulo\" baseada na faixa de valores da coluna \"prêmio_máximo\"\n",
    "def rotula(x):\n",
    "    if x <= 1000000:\n",
    "       return 'I'\n",
    "    elif x <= 5000000:\n",
    "       return 'II'\n",
    "    elif x <= 10000000:\n",
    "       return 'III'\n",
    "    elif x <= 20000000:\n",
    "       return 'IV'\n",
    "    elif x <= 40000000:\n",
    "       return 'V'\n",
    "    elif x <= 80000000:\n",
    "       return 'VI'\n",
    "    elif x <= 100000000:\n",
    "       return 'VII'\n",
    "    elif x <= 200000000:\n",
    "       return 'VIII'\n",
    "    elif x <= 300000000:\n",
    "       return 'IX'\n",
    "    elif x > 300000000:\n",
    "       return 'X'\n",
    "dados[\"Rotulo\"] = dados[\"Premio_Maximo\"].apply(rotula)\n",
    "dados[\"Rotulo\"]"
   ]
  },
  {
   "cell_type": "code",
   "execution_count": null,
   "metadata": {
    "collapsed": true
   },
   "outputs": [],
   "source": [
    "#4) (1.5 pontos) Calcule a porcentagem de ocorrência para cada rótulo assumindo o número total de concursos realizados. \n",
    "for rotulo in rotulo.unique():"
   ]
  }
 ],
 "metadata": {
  "kernelspec": {
   "display_name": "Python 2",
   "language": "python",
   "name": "python2"
  },
  "language_info": {
   "codemirror_mode": {
    "name": "ipython",
    "version": 2
   },
   "file_extension": ".py",
   "mimetype": "text/x-python",
   "name": "python",
   "nbconvert_exporter": "python",
   "pygments_lexer": "ipython2",
   "version": "2.7.13"
  }
 },
 "nbformat": 4,
 "nbformat_minor": 2
}
